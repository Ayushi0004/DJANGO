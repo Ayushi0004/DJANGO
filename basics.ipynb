{
 "cells": [
  {
   "cell_type": "code",
   "execution_count": 3,
   "metadata": {},
   "outputs": [
    {
     "name": "stdout",
     "output_type": "stream",
     "text": [
      "The sum of a and b is 30\n"
     ]
    }
   ],
   "source": [
    "def kuchbhi():\n",
    "    a=10\n",
    "    b=20\n",
    "    c=a+b\n",
    "    print(f'The sum of a and b is {c}')\n",
    "kuchbhi()\n"
   ]
  },
  {
   "cell_type": "code",
   "execution_count": 7,
   "metadata": {},
   "outputs": [
    {
     "data": {
      "text/plain": [
       "str"
      ]
     },
     "execution_count": 7,
     "metadata": {},
     "output_type": "execute_result"
    }
   ],
   "source": [
    "name=\"ayushi\"\n",
    "city=\"lucknow\"\n",
    "type(name)\n"
   ]
  },
  {
   "cell_type": "code",
   "execution_count": 9,
   "metadata": {},
   "outputs": [
    {
     "name": "stdout",
     "output_type": "stream",
     "text": [
      "50\n",
      "-10\n",
      "600\n",
      "0.6666666666666666\n",
      "1073741824000000000000000000000000000000\n",
      "0\n"
     ]
    }
   ],
   "source": [
    "#operations \n",
    "a=20\n",
    "b=30\n",
    "print(a + b)\n",
    "print(a-b)\n",
    "print(a*b)\n",
    "print(a/b)\n",
    "print(a**b)\n",
    "print(a//b)\n",
    "\n"
   ]
  },
  {
   "cell_type": "code",
   "execution_count": 11,
   "metadata": {},
   "outputs": [
    {
     "name": "stdout",
     "output_type": "stream",
     "text": [
      "True\n",
      "False\n",
      "True\n",
      "False\n",
      "False\n"
     ]
    }
   ],
   "source": [
    "#comparison operation \n",
    "x=45\n",
    "print(x>10)\n",
    "print(x<10)\n",
    "print(x>=10)\n",
    "print(x<=10)\n",
    "print(x==10)"
   ]
  },
  {
   "cell_type": "code",
   "execution_count": 12,
   "metadata": {},
   "outputs": [
    {
     "name": "stdout",
     "output_type": "stream",
     "text": [
      "True\n",
      "False\n",
      "False\n",
      "True\n"
     ]
    }
   ],
   "source": [
    "#logical operation(and or not)\n",
    "print(x>10 and x<57)\n",
    "print(x<10 and x<57)\n",
    "print(x<10 and x<57)\n",
    "print(not a>b)"
   ]
  },
  {
   "cell_type": "code",
   "execution_count": 14,
   "metadata": {},
   "outputs": [
    {
     "name": "stdout",
     "output_type": "stream",
     "text": [
      "['mango', 'apple', 'banana']\n",
      "True\n",
      "True\n",
      "True\n",
      "False\n"
     ]
    }
   ],
   "source": [
    "#membership operation (in not in ) (searching operation)\n",
    "fruits=[\"mango\" ,\"apple\" ,\"banana\"]\n",
    "print(fruits)\n",
    "print('apple' in fruits)\n",
    "print('mango' in fruits)\n",
    "print('banana' in fruits)\n",
    "print('grapes' in fruits)"
   ]
  },
  {
   "cell_type": "code",
   "execution_count": 1,
   "metadata": {},
   "outputs": [
    {
     "name": "stdout",
     "output_type": "stream",
     "text": [
      "a is greater than 5\n",
      "a is less than 15\n",
      "b is greatest\n"
     ]
    }
   ],
   "source": [
    "#loop and condition\n",
    "a=10\n",
    "if a>5:\n",
    "    print(\"a is greater than 5\")\n",
    "\n",
    "if a>15:\n",
    "    print(\"a is greater than 15\")\n",
    "else:\n",
    "    print(\"a is less than 15\")\n",
    "\n",
    "\n",
    "a,b,c=10,50,30\n",
    "if a>b and a>c:\n",
    "    print(\"a is greatest\")\n",
    "elif b>a and b>c:\n",
    "    print(\"b is greatest\")\n",
    "else :\n",
    "    print(\"c is greatest\")"
   ]
  },
  {
   "cell_type": "code",
   "execution_count": 2,
   "metadata": {},
   "outputs": [
    {
     "name": "stdout",
     "output_type": "stream",
     "text": [
      "🐼🐼🐼1\n",
      "🐼🐼🐼2\n",
      "🐼🐼🐼3\n",
      "🐼🐼🐼4\n",
      "🐼🐼🐼5\n"
     ]
    }
   ],
   "source": [
    "numbers =[1,2,3,4,5]\n",
    "for n in numbers:\n",
    "    print(f\"🐼🐼🐼{n}\")"
   ]
  },
  {
   "cell_type": "code",
   "execution_count": 8,
   "metadata": {},
   "outputs": [
    {
     "name": "stdout",
     "output_type": "stream",
     "text": [
      "mango\n",
      "apple\n",
      "grapes\n",
      "pineapple\n",
      "watermelon\n"
     ]
    }
   ],
   "source": [
    "#for loop\n",
    "fruits=['mango','apple','grapes','','','','pineapple','watermelon']\n",
    "for fruit in fruits:\n",
    "    if len(fruit)==0:\n",
    "        continue   #skip the content\n",
    "    print(fruit)"
   ]
  },
  {
   "cell_type": "code",
   "execution_count": 11,
   "metadata": {},
   "outputs": [
    {
     "name": "stdout",
     "output_type": "stream",
     "text": [
      "leo\n",
      "salaar\n",
      "kalki\n",
      "bahubali\n",
      "bahubali 2\n",
      "1\n",
      "2\n",
      "3\n",
      "4\n",
      "5\n"
     ]
    }
   ],
   "source": [
    "#print movies and x using loops\n",
    "movies = [\"leo\",\"salaar\",\"kalki\",\"bahubali\",\"bahubali 2\"]\n",
    "x = [1,2,3,4,5]\n",
    "for movie in movies:\n",
    "    print(movie)\n",
    "for x in x:\n",
    "    print(x)"
   ]
  },
  {
   "cell_type": "code",
   "execution_count": 12,
   "metadata": {},
   "outputs": [
    {
     "name": "stdout",
     "output_type": "stream",
     "text": [
      "leo\n",
      "salaar\n",
      "kalki\n",
      "bahubali\n",
      "bahubali 2\n",
      "dhoom\n",
      "gadar\n",
      "tere naam\n"
     ]
    }
   ],
   "source": [
    "movies.append('dhoom')\n",
    "movies.append('gadar')\n",
    "movies.append('tere naam')\n",
    "for movie in movies:\n",
    "    print(movie)"
   ]
  },
  {
   "cell_type": "code",
   "execution_count": 13,
   "metadata": {},
   "outputs": [
    {
     "name": "stdout",
     "output_type": "stream",
     "text": [
      "leo\n",
      "salaar\n",
      "kalki\n",
      "bahubali 2\n",
      "dhoom\n",
      "tere naam\n"
     ]
    }
   ],
   "source": [
    "movies.remove('gadar')\n",
    "movies.remove('bahubali')\n",
    "for movie in movies:\n",
    "    print(movie)"
   ]
  },
  {
   "cell_type": "code",
   "execution_count": 9,
   "metadata": {},
   "outputs": [
    {
     "name": "stdout",
     "output_type": "stream",
     "text": [
      "64\n"
     ]
    }
   ],
   "source": [
    "# while loop syntax\n",
    "# while expression:\n",
    "#     statement 1\n",
    "#     statement 2\n",
    "#     statement 3\n",
    "\n",
    "number=1254983325895\n",
    "total=0\n",
    "while number > 0:\n",
    "    total += number % 10\n",
    "    number //= 10\n",
    "print(total)"
   ]
  }
 ],
 "metadata": {
  "kernelspec": {
   "display_name": "base",
   "language": "python",
   "name": "python3"
  },
  "language_info": {
   "codemirror_mode": {
    "name": "ipython",
    "version": 3
   },
   "file_extension": ".py",
   "mimetype": "text/x-python",
   "name": "python",
   "nbconvert_exporter": "python",
   "pygments_lexer": "ipython3",
   "version": "3.12.4"
  }
 },
 "nbformat": 4,
 "nbformat_minor": 2
}
