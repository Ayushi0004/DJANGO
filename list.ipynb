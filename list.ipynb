{
 "cells": [
  {
   "cell_type": "markdown",
   "metadata": {},
   "source": [
    "# list"
   ]
  },
  {
   "cell_type": "code",
   "execution_count": null,
   "metadata": {},
   "outputs": [
    {
     "name": "stdout",
     "output_type": "stream",
     "text": [
      "['apple', 'mango', 'grapes', 'banana', 'weatermelon', 125, 12.55]\n",
      "grapes\n",
      "['apple', 'mango', 'grapes', 'banana', 'papaya', 125, 12.55]\n",
      "['apple', 'mango', 'grapes', 'leechi', 'banana', 'papaya', 125, 12.55]\n",
      "apple\n",
      "mango\n",
      "grapes\n",
      "leechi\n",
      "banana\n",
      "papaya\n",
      "125\n",
      "12.55\n"
     ]
    }
   ],
   "source": [
    "fruits = [\"apple\",\"mango\",\"grapes\",\"banana\",\"weatermelon\",125,12.55, ]\n",
    "print(fruits)\n",
    "print(fruits[2])\n",
    "#to replace a value \n",
    "fruits[4]=\"papaya\"\n",
    "print(fruits)\n",
    "fruits.insert(3,\"leechi\")\n",
    "print(fruits)\n",
    "# fruits.clear()\n",
    "for fruit in fruits:\n",
    "    print(fruit)"
   ]
  },
  {
   "cell_type": "markdown",
   "metadata": {},
   "source": [
    "# dictionary"
   ]
  },
  {
   "cell_type": "markdown",
   "metadata": {},
   "source": [
    "### key:value pairs"
   ]
  },
  {
   "cell_type": "code",
   "execution_count": 21,
   "metadata": {},
   "outputs": [
    {
     "name": "stdout",
     "output_type": "stream",
     "text": [
      "{'brand': 'suzuki', 'model': 'cmkles', 'color': 'yellow'}\n",
      "cmkles\n"
     ]
    }
   ],
   "source": [
    "cars ={\n",
    "    \"brand\":\"suzuki\",\n",
    "    \"model\":\"swift\",\n",
    "    \"years\":2015,\n",
    "    \"color\":\"blue\"\n",
    "}\n",
    "cars[\"model\"]=\"cmkles\"# update a value\n",
    "cars[\"color\"]=\"yellow\"\n",
    "del cars['years']\n",
    "print(cars)\n",
    "print(cars.get(\"model\"))"
   ]
  },
  {
   "cell_type": "markdown",
   "metadata": {},
   "source": [
    "# tuple"
   ]
  },
  {
   "cell_type": "code",
   "execution_count": 23,
   "metadata": {},
   "outputs": [
    {
     "name": "stdout",
     "output_type": "stream",
     "text": [
      "<class 'tuple'>\n",
      "('apple', 'banana', 'mango')\n"
     ]
    }
   ],
   "source": [
    "tuple = (\"apple\",\"banana\",\"mango\")\n",
    "print(type(tuple))\n",
    "print(tuple)"
   ]
  },
  {
   "cell_type": "markdown",
   "metadata": {},
   "source": [
    "# dictionary"
   ]
  },
  {
   "cell_type": "markdown",
   "metadata": {},
   "source": [
    "--keys are unique \n",
    "--values can be duplicate\n",
    "--keys can be of immutable type(str tuple constant)"
   ]
  },
  {
   "cell_type": "code",
   "execution_count": 7,
   "metadata": {},
   "outputs": [
    {
     "name": "stdout",
     "output_type": "stream",
     "text": [
      "apple\n",
      "iphone 16\n",
      "None\n",
      "not found\n",
      "150000\n"
     ]
    }
   ],
   "source": [
    "product1 = {\n",
    "    'brand' :'apple',\n",
    "    'name' : 'iphone 16',\n",
    "    'price' : 150000\n",
    "    }\n",
    "print(product1['brand'])\n",
    "print(product1['name'])\n",
    "# print(product1['ram']) it give key error\n",
    "print(product1.get('ram')) #none\n",
    "print(product1.get('ram','not found'))# default value added\n",
    "print(product1.get('price','not found')) #default value will not be displayes"
   ]
  },
  {
   "cell_type": "code",
   "execution_count": 8,
   "metadata": {},
   "outputs": [
    {
     "name": "stdout",
     "output_type": "stream",
     "text": [
      "sabji ka kharcha 250 rupay\n",
      "dawai ka kharcha 1250 rupay\n",
      "phal ka kharcha 100 rupay\n",
      "phone ke kharche ka kharcha 483 rupay\n"
     ]
    }
   ],
   "source": [
    "kharche = {\n",
    "    'sabji' : 250,\n",
    "    'dawai' : 1250,\n",
    "    'phal' : 100,\n",
    "    'phone ke kharche' : 483,\n",
    "}\n",
    "#traversal (loop)\n",
    "for k,v in kharche.items():\n",
    "    print(f\"{k} ka kharcha {v} rupay\")"
   ]
  },
  {
   "cell_type": "markdown",
   "metadata": {},
   "source": [
    "# function\n",
    "\n",
    "import math\n",
    "value of p and b\n",
    "h=math.sqrt(p**2+ b**2)\n",
    "print(h)"
   ]
  },
  {
   "cell_type": "code",
   "execution_count": 14,
   "metadata": {},
   "outputs": [
    {
     "name": "stdout",
     "output_type": "stream",
     "text": [
      "17.69180601295413\n",
      "6.4031242374328485\n",
      "15.811388300841896\n",
      "19.924858845171276\n"
     ]
    }
   ],
   "source": [
    "#function uses for some value\n",
    "import math\n",
    "p,b =12,13\n",
    "h=math.sqrt(p**2+ b**2)\n",
    "print(h)\n",
    "\n",
    "p,b =4,5\n",
    "h=math.sqrt(p**2+ b**2)\n",
    "print(h)\n",
    "\n",
    "p,b =5,15\n",
    "h=math.sqrt(p**2+ b**2)\n",
    "print(h)\n",
    "\n",
    "p,b =6,19\n",
    "h=math.sqrt(p**2+ b**2)\n",
    "print(h)\n"
   ]
  },
  {
   "cell_type": "code",
   "execution_count": 16,
   "metadata": {},
   "outputs": [
    {
     "name": "stdout",
     "output_type": "stream",
     "text": [
      "5.0\n",
      "17.69180601295413\n",
      "14.317821063276353\n",
      "20.0\n"
     ]
    }
   ],
   "source": [
    "#function uses for more values\n",
    "def hyp(p,b):\n",
    "    ans = math.sqrt(p**2 + b**2)\n",
    "    return ans\n",
    "\n",
    "print(hyp(3,4))\n",
    "print(hyp(12,13))\n",
    "print(hyp(13,6))\n",
    "print(hyp(16,12))"
   ]
  },
  {
   "cell_type": "code",
   "execution_count": 35,
   "metadata": {},
   "outputs": [
    {
     "data": {
      "text/plain": [
       "['AN', 'BW', 'RDJ', 'SJ']"
      ]
     },
     "execution_count": 35,
     "metadata": {},
     "output_type": "execute_result"
    }
   ],
   "source": [
    "def abbr_generator(data):\n",
    "    words = data.split(',')\n",
    "    # print(words)\n",
    "    abbreviations = []\n",
    "    for word in words:\n",
    "        clean_word = word.strip()\n",
    "        abbr = ''\n",
    "        for item in clean_word.split():\n",
    "            #    print(item)\n",
    "               abbr += item[0].upper()\n",
    "        abbreviations.append(abbr)\n",
    "    return abbreviations\n",
    "abbr_generator('Alex Newman, Bruce Wayne, Robert Downey Jr, Samuel Jackson')"
   ]
  },
  {
   "cell_type": "code",
   "execution_count": 38,
   "metadata": {},
   "outputs": [
    {
     "data": {
      "text/plain": [
       "4"
      ]
     },
     "execution_count": 38,
     "metadata": {},
     "output_type": "execute_result"
    }
   ],
   "source": [
    "def word_count(sentence):\n",
    "    words = sentence.split()\n",
    "    size = len(words)\n",
    "    return size\n",
    "\n",
    "word_count(\"i want to sleep\")"
   ]
  },
  {
   "cell_type": "code",
   "execution_count": 40,
   "metadata": {},
   "outputs": [
    {
     "data": {
      "text/plain": [
       "12"
      ]
     },
     "execution_count": 40,
     "metadata": {},
     "output_type": "execute_result"
    }
   ],
   "source": [
    "word_count(\"to learn coding, first you have learn to look at  the screen\")"
   ]
  },
  {
   "cell_type": "markdown",
   "metadata": {},
   "source": [
    "# class and object"
   ]
  },
  {
   "cell_type": "markdown",
   "metadata": {},
   "source": [
    "syntax\n",
    "\n",
    "```\n",
    "python\n",
    "```"
   ]
  },
  {
   "cell_type": "code",
   "execution_count": 1,
   "metadata": {},
   "outputs": [],
   "source": [
    "class Student:\n",
    "    name = \"\"\n",
    "    rollno = \"\"\n",
    "    klass = \"\" \n",
    "\n",
    "    def show(self):\n",
    "        print(self.name)\n",
    "        print(self.rollno)\n",
    "        print(self.klass)"
   ]
  },
  {
   "cell_type": "markdown",
   "metadata": {},
   "source": [
    "# object creation"
   ]
  },
  {
   "cell_type": "code",
   "execution_count": 3,
   "metadata": {},
   "outputs": [
    {
     "name": "stdout",
     "output_type": "stream",
     "text": [
      "ayushi\n",
      "06\n",
      "6th\n"
     ]
    }
   ],
   "source": [
    "s1 = Student() #object creation using constructor\n",
    "s1.name=\"ayushi\"\n",
    "s1.rollno='06'\n",
    "s1.klass='6th'\n",
    "\n",
    "s1.show()"
   ]
  },
  {
   "cell_type": "markdown",
   "metadata": {},
   "source": [
    "class constructor \n",
    "```python\n",
    "\n",
    "class classname:\n",
    "    #constructor \n",
    "    def__init__(self, param1, param2, param3):\n",
    "    self.prop1 = param1\n",
    "    self.prop2 = param2\n",
    "    self.propN = paramN\n",
    "```"
   ]
  },
  {
   "cell_type": "code",
   "execution_count": 11,
   "metadata": {},
   "outputs": [],
   "source": [
    "class Bus:\n",
    "    \n",
    "    def __init__(self, number, driver, type, manufacturer):\n",
    "        self.number = number\n",
    "        self.driver = driver\n",
    "        self.bus_type = type\n",
    "        self.manufacturer = manufacturer\n",
    "\n",
    "    def info(self):\n",
    "        print(f\"bus number:{self.number}\")\n",
    "        print(f\"bus driver:{self.driver}\")\n",
    "        print(f\"bus type:{self.bus_type}\")\n",
    "        print(f\"bus manufacturer:{self.manufacturer}\")   \n",
    "\n",
    "\n",
    "\n"
   ]
  },
  {
   "cell_type": "code",
   "execution_count": 12,
   "metadata": {},
   "outputs": [
    {
     "name": "stdout",
     "output_type": "stream",
     "text": [
      "bus number:UP32 AA 4859\n",
      "bus driver:Prakash\n",
      "bus type:Non AC\n",
      "bus manufacturer:TATA\n",
      "bus number:UP32 AB 7578\n",
      "bus driver:Rakesh\n",
      "bus type:AC\n",
      "bus manufacturer:VOLVO\n"
     ]
    }
   ],
   "source": [
    "b1 = Bus(\"UP32 AA 4859\", \"Prakash\", \"Non AC\", \"TATA\")\n",
    "b2 = Bus(\"UP32 AB 7578\", \"Rakesh\", \"AC\",\"VOLVO\")\n",
    "b1.info()\n",
    "b2.info()\n"
   ]
  },
  {
   "cell_type": "markdown",
   "metadata": {},
   "source": [
    "# inharitance\n",
    "\n",
    "#### parent-> child"
   ]
  },
  {
   "cell_type": "code",
   "execution_count": 24,
   "metadata": {},
   "outputs": [],
   "source": [
    "class Person:\n",
    "    def __init__(self, name, gender):\n",
    "        self.name = name\n",
    "        self.gender = gender\n",
    "    \n",
    "    def show(self):\n",
    "        print(f\"{self.name} and {self.gender}\")"
   ]
  },
  {
   "cell_type": "code",
   "execution_count": 25,
   "metadata": {},
   "outputs": [],
   "source": [
    "class Engineer(Person):\n",
    "    def __init__(self,name,gender,type):\n",
    "        super().__init__(name,gender)\n",
    "        self.type = type"
   ]
  },
  {
   "cell_type": "code",
   "execution_count": 27,
   "metadata": {},
   "outputs": [
    {
     "name": "stdout",
     "output_type": "stream",
     "text": [
      "Raj and Male\n",
      "arti and female\n"
     ]
    }
   ],
   "source": [
    "e1 = Engineer('Raj','Male','Civil')\n",
    "e1.show()\n",
    "p1 = Person(\"arti\",\"female\")\n",
    "p1.show()"
   ]
  },
  {
   "cell_type": "code",
   "execution_count": null,
   "metadata": {},
   "outputs": [],
   "source": []
  }
 ],
 "metadata": {
  "kernelspec": {
   "display_name": "base",
   "language": "python",
   "name": "python3"
  },
  "language_info": {
   "codemirror_mode": {
    "name": "ipython",
    "version": 3
   },
   "file_extension": ".py",
   "mimetype": "text/x-python",
   "name": "python",
   "nbconvert_exporter": "python",
   "pygments_lexer": "ipython3",
   "version": "3.12.4"
  }
 },
 "nbformat": 4,
 "nbformat_minor": 2
}
